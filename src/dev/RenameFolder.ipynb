{
 "cells": [
  {
   "cell_type": "code",
   "execution_count": null,
   "metadata": {},
   "outputs": [],
   "source": [
    "import re\n",
    "import os\n",
    "from glob import glob\n",
    "from pathlib import Path\n",
    "\n",
    "pathMain = Path(r\"[path]\")\n",
    "# pathSearch = pathMain / \"**\"\n",
    "\n",
    "# lPathNames = glob(pathSearch.as_posix(), recursive=True)\n",
    "# print(lPathNames)\n",
    "\n",
    "# reSearch = re.compile(\"_ext_\")\n",
    "# reReplace = re.compile(\"hello\")\n",
    "\n",
    "def _DoRenameFolder(*, _pathMain: Path, _pathAct: Path, _reSearch, _sReReplace: str, _lRenames: list):\n",
    "\n",
    "    # Recurse first through child folders\n",
    "    for pathChild in _pathAct.iterdir():\n",
    "        if pathChild.is_dir():\n",
    "            _DoRenameFolder(_pathMain=_pathMain, _pathAct=pathChild, _reSearch=_reSearch, _sReReplace=_sReReplace, _lRenames=_lRenames)\n",
    "        # endif\n",
    "    # endfor\n",
    "\n",
    "    sNewName = _reSearch.sub(_sReReplace, _pathAct.name)\n",
    "    if sNewName != _pathAct.name:\n",
    "        print(f\"{_pathAct.name} -> {sNewName}\")\n",
    "        pathNew = _pathAct.parent / sNewName\n",
    "        _lRenames.append([_pathAct, pathNew])\n",
    "    # endif\n",
    "# enddef\n",
    "\n",
    "def RenameFolder(*, _pathMain: Path, _sReSearch: str, _sReReplace: str):\n",
    "    reSearch = re.compile(_sReSearch)\n",
    "    lRenames = []\n",
    "    _DoRenameFolder(_pathMain=_pathMain, _pathAct=_pathMain, _reSearch=reSearch, _sReReplace=_sReReplace, _lRenames=lRenames)\n",
    "    print(lRenames)\n",
    "\n",
    "    for pathOld, pathNew in lRenames:\n",
    "        # pathOld.rename(pathNew)\n",
    "        os.rename(pathOld.as_posix(), pathNew.as_posix())\n",
    "    # endfor\n",
    "\n",
    "# enddef\n",
    "\n",
    "\n",
    "RenameFolder(_pathMain=pathMain, _sReSearch=\"_ext_\", _sReReplace=\"hello\")\n",
    "\n"
   ]
  }
 ],
 "metadata": {
  "kernelspec": {
   "display_name": "Python 3.10.6 ('cath3')",
   "language": "python",
   "name": "python3"
  },
  "language_info": {
   "codemirror_mode": {
    "name": "ipython",
    "version": 3
   },
   "file_extension": ".py",
   "mimetype": "text/x-python",
   "name": "python",
   "nbconvert_exporter": "python",
   "pygments_lexer": "ipython3",
   "version": "3.10.6"
  },
  "orig_nbformat": 4,
  "vscode": {
   "interpreter": {
    "hash": "d144e52b91e679811e4cceb0036205285e180e4be0ba7d3643a3ec09e4fe9f87"
   }
  }
 },
 "nbformat": 4,
 "nbformat_minor": 2
}
