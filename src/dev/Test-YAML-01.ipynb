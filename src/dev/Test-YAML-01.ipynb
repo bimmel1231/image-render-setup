{
 "cells": [
  {
   "cell_type": "code",
   "execution_count": 1,
   "metadata": {},
   "outputs": [
    {
     "name": "stdout",
     "output_type": "stream",
     "text": [
      "{'repositories': {'functional-json': {'type': 'git', 'url': 'ssh://git@sourcecode.socialcoding.bosch.com:7999/render/functional-json.git', 'version': 'develop'}, 'image-render-actions-std': {'type': 'git', 'url': 'ssh://git@sourcecode.socialcoding.bosch.com:7999/render/image-render-actions-std.git', 'version': 'develop'}, 'image-render-automation': {'type': 'git', 'url': 'ssh://git@sourcecode.socialcoding.bosch.com:7999/render/image-render-automation.git', 'version': 'develop'}, 'image-render-base': {'type': 'git', 'url': 'ssh://git@sourcecode.socialcoding.bosch.com:7999/render/image-render-base.git', 'version': 'develop'}, 'image-render-blender-base': {'type': 'git', 'url': 'ssh://git@sourcecode.socialcoding.bosch.com:7999/render/image-render-blender-base.git', 'version': 'develop'}, 'image-render-blender-camera': {'type': 'git', 'url': 'ssh://git@sourcecode.socialcoding.bosch.com:7999/render/image-render-blender-camera.git', 'version': 'develop'}, 'image-render-blender-human': {'type': 'git', 'url': 'ssh://git@sourcecode.socialcoding.bosch.com:7999/render/image-render-blender-human.git', 'version': 'develop'}, 'image-render-blender-label': {'type': 'git', 'url': 'ssh://git@sourcecode.socialcoding.bosch.com:7999/render/image-render-blender-label.git', 'version': 'develop'}, 'image-render-blender-points': {'type': 'git', 'url': 'ssh://git@sourcecode.socialcoding.bosch.com:7999/render/image-render-blender-points.git', 'version': 'develop'}, 'image-render-blender-vehicle': {'type': 'git', 'url': 'ssh://git@sourcecode.socialcoding.bosch.com:7999/render/image-render-blender-vehicle.git', 'version': 'develop'}, 'image-render-workspace-simple': {'type': 'git', 'url': 'ssh://git@sourcecode.socialcoding.bosch.com:7999/render/image-render-workspace-simple.git', 'version': 'develop'}, 'image-render-workspace-test': {'type': 'git', 'url': 'ssh://git@sourcecode.socialcoding.bosch.com:7999/render/image-render-workspace-test.git', 'version': 'develop'}}}\n"
     ]
    }
   ],
   "source": [
    "import yaml\n",
    "from pathlib import Path\n",
    "\n",
    "pathFile = Path(\"[path]/image-render-setup/repos/repos.yaml\")\n",
    "with pathFile.open(\"r\") as xFile:\n",
    "    dicRepos = yaml.load(xFile, Loader=yaml.Loader)\n",
    "# endwith\n",
    "\n",
    "print(dicRepos)\n",
    "pathTrgFile = pathFile.parent.parent.parent / \"repos_out.yaml\"\n",
    "with pathTrgFile.open(\"w\") as xFile:\n",
    "    # yaml.dump(dicRepos, xFile, Dumper=yaml.Dumper)\n",
    "    yaml.safe_dump(dicRepos, xFile, encoding=\"utf-8\", allow_unicode=True, indent=4)\n",
    "# endwith"
   ]
  }
 ],
 "metadata": {
  "kernelspec": {
   "display_name": "Python 3.10.4 ('cath3')",
   "language": "python",
   "name": "python3"
  },
  "language_info": {
   "codemirror_mode": {
    "name": "ipython",
    "version": 3
   },
   "file_extension": ".py",
   "mimetype": "text/x-python",
   "name": "python",
   "nbconvert_exporter": "python",
   "pygments_lexer": "ipython3",
   "version": "3.10.4"
  },
  "orig_nbformat": 4,
  "vscode": {
   "interpreter": {
    "hash": "d144e52b91e679811e4cceb0036205285e180e4be0ba7d3643a3ec09e4fe9f87"
   }
  }
 },
 "nbformat": 4,
 "nbformat_minor": 2
}
