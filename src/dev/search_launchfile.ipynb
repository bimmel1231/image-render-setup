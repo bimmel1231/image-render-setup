{
 "cells": [
  {
   "cell_type": "code",
   "execution_count": null,
   "metadata": {},
   "outputs": [],
   "source": [
    "from glob import glob\n",
    "from pathlib import Path\n",
    "\n",
    "pathWS = Path(\n",
    "    r\"[path]\\image-render-workspace-test\"\n",
    ")\n",
    "pathSearch = pathWS / \"config\"\n",
    "print(pathSearch)\n",
    "# print(glob(pathSearch.as_posix(), recursive=True))\n",
    "lFiles = [\n",
    "    x\n",
    "    for x in pathSearch.rglob(\"launch.*\")\n",
    "    if (\n",
    "        x.is_file()\n",
    "        and \".vscode\" not in x.as_posix()\n",
    "        and x.suffix in [\".json\", \".json5\", \".ison\"]\n",
    "    )\n",
    "]\n",
    "\n",
    "for pathFile in lFiles:\n",
    "    print(pathFile.as_posix())\n",
    "# endfor"
   ]
  }
 ],
 "metadata": {
  "interpreter": {
   "hash": "d144e52b91e679811e4cceb0036205285e180e4be0ba7d3643a3ec09e4fe9f87"
  },
  "kernelspec": {
   "display_name": "Python 3.10.4 ('cath3')",
   "language": "python",
   "name": "python3"
  },
  "language_info": {
   "codemirror_mode": {
    "name": "ipython",
    "version": 3
   },
   "file_extension": ".py",
   "mimetype": "text/x-python",
   "name": "python",
   "nbconvert_exporter": "python",
   "pygments_lexer": "ipython3",
   "version": "3.10.4"
  },
  "orig_nbformat": 4
 },
 "nbformat": 4,
 "nbformat_minor": 2
}
